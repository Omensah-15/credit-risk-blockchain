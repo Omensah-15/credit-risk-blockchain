{
 "cells": [
  {
   "cell_type": "code",
   "execution_count": 1,
   "id": "132b70b9",
   "metadata": {},
   "outputs": [
    {
     "name": "stderr",
     "output_type": "stream",
     "text": [
      "c:\\Users\\heave\\anaconda3\\Lib\\site-packages\\pandas\\core\\arrays\\masked.py:60: UserWarning: Pandas requires version '1.3.6' or newer of 'bottleneck' (version '1.3.5' currently installed).\n",
      "  from pandas.core import (\n"
     ]
    }
   ],
   "source": [
    "import os\n",
    "import numpy as np\n",
    "import pandas as pd\n",
    "import joblib\n",
    "from sklearn.model_selection import train_test_split, StratifiedKFold\n",
    "from sklearn.metrics import roc_auc_score, accuracy_score, f1_score, classification_report\n",
    "from sklearn.calibration import CalibratedClassifierCV\n",
    "from imblearn.over_sampling import SMOTE\n",
    "import lightgbm as lgb\n",
    "import optuna\n",
    "from utils.preprocessing import preprocess_data\n",
    "from lightgbm import early_stopping, log_evaluation"
   ]
  },
  {
   "cell_type": "code",
   "execution_count": 2,
   "id": "2bf3b1b6",
   "metadata": {},
   "outputs": [],
   "source": [
    "# --- Config tuned for CPU\n",
    "N_TRIALS = 20\n",
    "OPTUNA_N_JOBS = 1\n",
    "RANDOM_STATE = 42\n",
    "CV_FOLDS = 3"
   ]
  },
  {
   "cell_type": "code",
   "execution_count": 3,
   "id": "a163aaf5",
   "metadata": {},
   "outputs": [],
   "source": [
    "DATA_DIR = \"data\"\n",
    "MODELS_DIR = \"models\"\n",
    "os.makedirs(MODELS_DIR, exist_ok=True)"
   ]
  },
  {
   "cell_type": "code",
   "execution_count": 4,
   "id": "c661f6cc",
   "metadata": {},
   "outputs": [],
   "source": [
    "# --- Create sample dataset if missing\n",
    "sample_path = os.path.join(DATA_DIR, \"sample_dataset.csv\")\n",
    "if not os.path.exists(sample_path):\n",
    "    np.random.seed(RANDOM_STATE)\n",
    "    n_samples = 1000\n",
    "    data = {\n",
    "        'customer_id': [f'CUST{str(i).zfill(5)}' for i in range(1, n_samples + 1)],\n",
    "        'age': np.random.randint(25, 70, n_samples),\n",
    "        'employment_status': np.random.choice(['employed', 'self-employed', 'unemployed', 'student'], n_samples, p=[0.6,0.2,0.1,0.1]),\n",
    "        'annual_income': np.random.randint(20000,100000,n_samples),\n",
    "        'education_level': np.random.choice(['High School','Diploma','Bachelor','Master'], n_samples, p=[0.2,0.3,0.4,0.1]),\n",
    "        'credit_history_length': np.random.randint(1,20,n_samples),\n",
    "        'num_previous_loans': np.random.randint(0,10,n_samples),\n",
    "        'num_defaults': np.random.randint(0,3,n_samples),\n",
    "        'avg_payment_delay_days': np.random.randint(0,15,n_samples),\n",
    "        'current_credit_score': np.random.randint(500,800,n_samples),\n",
    "        'loan_amount': np.random.randint(5000,150000,n_samples),\n",
    "        'loan_term_months': np.random.choice([12,24,36,48,60], n_samples),\n",
    "        'loan_purpose': np.random.choice(['Business','Crypto-Backed','Car Loan','Education','Home Loan'], n_samples),\n",
    "        'collateral_present': np.random.choice(['Yes','No'], n_samples, p=[0.7,0.3]),\n",
    "        'identity_verified_on_chain': np.random.randint(0,2,n_samples),\n",
    "        'transaction_consistency_score': np.round(np.random.uniform(0.2,1.0,n_samples),2),\n",
    "        'fraud_alert_flag': np.random.randint(0,2,n_samples, p=[0.9,0.1]),\n",
    "        'on_chain_credit_history': np.random.randint(0,10,n_samples)\n",
    "    }\n",
    "    df = pd.DataFrame(data)\n",
    "    prob_default = (\n",
    "        0.3 * (df['num_defaults'] > 0).astype(int) +\n",
    "        0.2 * (df['employment_status'] == 'unemployed').astype(int) +\n",
    "        0.1 * (df['current_credit_score'] < 600).astype(int) +\n",
    "        0.1 * (df['avg_payment_delay_days'] > 7).astype(int) +\n",
    "        0.1 * (df['loan_amount'] / df['annual_income'] > 0.5).astype(int) +\n",
    "        0.1 * (df['fraud_alert_flag'] == 1).astype(int) +\n",
    "        np.random.normal(0, 0.1, len(df))\n",
    "    )\n",
    "    df['default_flag'] = (prob_default > 0.5).astype(int)\n",
    "    df['probability_of_default'] = np.clip(1 / (1 + np.exp(-prob_default)), 0.01, 0.99)\n",
    "    os.makedirs(DATA_DIR, exist_ok=True)\n",
    "    df.to_csv(sample_path, index=False)\n",
    "    print(\"Sample dataset created at\", sample_path)"
   ]
  },
  {
   "cell_type": "code",
   "execution_count": 5,
   "id": "0542933d",
   "metadata": {},
   "outputs": [
    {
     "data": {
      "text/plain": [
       "['models\\\\feature_columns.pkl']"
      ]
     },
     "execution_count": 5,
     "metadata": {},
     "output_type": "execute_result"
    }
   ],
   "source": [
    "# --- Load and preprocess\n",
    "df = pd.read_csv(sample_path)\n",
    "df = preprocess_data(df)\n",
    "\n",
    "features = [\n",
    " 'age','employment_status','annual_income','education_level',\n",
    " 'credit_history_length','num_previous_loans','num_defaults',\n",
    " 'avg_payment_delay_days','current_credit_score','loan_amount',\n",
    " 'loan_term_months','loan_purpose','collateral_present',\n",
    " 'identity_verified_on_chain','transaction_consistency_score',\n",
    " 'fraud_alert_flag','on_chain_credit_history','income_to_loan_ratio',\n",
    " 'credit_utilization','default_rate'\n",
    "]\n",
    "\n",
    "X = df[features]\n",
    "y = df['default_flag']\n",
    "\n",
    "joblib.dump(features, os.path.join(MODELS_DIR,'feature_columns.pkl'))"
   ]
  },
  {
   "cell_type": "code",
   "execution_count": 6,
   "id": "c8e1f669",
   "metadata": {},
   "outputs": [
    {
     "name": "stderr",
     "output_type": "stream",
     "text": [
      "[I 2025-09-07 11:42:42,220] A new study created in memory with name: no-name-dd240d10-b6a1-40af-b6e5-4c93ac8abc62\n"
     ]
    },
    {
     "name": "stdout",
     "output_type": "stream",
     "text": [
      "Training until validation scores don't improve for 50 rounds\n",
      "Early stopping, best iteration is:\n",
      "[142]\tvalid_0's auc: 0.80225\tvalid_0's binary_logloss: 0.525738\n",
      "Training until validation scores don't improve for 50 rounds\n",
      "Early stopping, best iteration is:\n",
      "[26]\tvalid_0's auc: 0.808174\tvalid_0's binary_logloss: 0.624938\n",
      "Training until validation scores don't improve for 50 rounds\n"
     ]
    },
    {
     "name": "stderr",
     "output_type": "stream",
     "text": [
      "[I 2025-09-07 11:42:43,715] Trial 0 finished with value: 0.7999303436377515 and parameters: {'n_estimators': 301, 'learning_rate': 0.011650672954748257, 'num_leaves': 21, 'max_depth': 4, 'min_child_samples': 30, 'subsample': 0.7772412155010655, 'colsample_bytree': 0.6757356950409328, 'reg_alpha': 8.115945837833762e-05, 'reg_lambda': 0.07758010288880915}. Best is trial 0 with value: 0.7999303436377515.\n"
     ]
    },
    {
     "name": "stdout",
     "output_type": "stream",
     "text": [
      "Early stopping, best iteration is:\n",
      "[3]\tvalid_0's auc: 0.789366\tvalid_0's binary_logloss: 0.682568\n",
      "Training until validation scores don't improve for 50 rounds\n",
      "Early stopping, best iteration is:\n",
      "[42]\tvalid_0's auc: 0.800431\tvalid_0's binary_logloss: 0.515495\n",
      "Training until validation scores don't improve for 50 rounds\n",
      "Early stopping, best iteration is:\n",
      "[19]\tvalid_0's auc: 0.809584\tvalid_0's binary_logloss: 0.549045\n",
      "Training until validation scores don't improve for 50 rounds\n"
     ]
    },
    {
     "name": "stderr",
     "output_type": "stream",
     "text": [
      "[I 2025-09-07 11:42:44,401] Trial 1 finished with value: 0.8006154051583941 and parameters: {'n_estimators': 118, 'learning_rate': 0.051062493007548775, 'num_leaves': 57, 'max_depth': 3, 'min_child_samples': 44, 'subsample': 0.9355909123995245, 'colsample_bytree': 0.8115854595901646, 'reg_alpha': 1.030438818802362e-06, 'reg_lambda': 4.250632498684083}. Best is trial 1 with value: 0.8006154051583941.\n"
     ]
    },
    {
     "name": "stdout",
     "output_type": "stream",
     "text": [
      "Early stopping, best iteration is:\n",
      "[19]\tvalid_0's auc: 0.791832\tvalid_0's binary_logloss: 0.559512\n",
      "Training until validation scores don't improve for 50 rounds\n",
      "Early stopping, best iteration is:\n",
      "[26]\tvalid_0's auc: 0.802095\tvalid_0's binary_logloss: 0.518299\n",
      "Training until validation scores don't improve for 50 rounds\n",
      "Early stopping, best iteration is:\n",
      "[121]\tvalid_0's auc: 0.815166\tvalid_0's binary_logloss: 0.47469\n",
      "Training until validation scores don't improve for 50 rounds\n"
     ]
    },
    {
     "name": "stderr",
     "output_type": "stream",
     "text": [
      "[I 2025-09-07 11:42:45,600] Trial 2 finished with value: 0.8035791730404077 and parameters: {'n_estimators': 373, 'learning_rate': 0.06378125571603142, 'num_leaves': 77, 'max_depth': 5, 'min_child_samples': 23, 'subsample': 0.8449637552880775, 'colsample_bytree': 0.7818633285201985, 'reg_alpha': 1.7059874571396516e-07, 'reg_lambda': 0.000911473495737746}. Best is trial 2 with value: 0.8035791730404077.\n"
     ]
    },
    {
     "name": "stdout",
     "output_type": "stream",
     "text": [
      "Early stopping, best iteration is:\n",
      "[89]\tvalid_0's auc: 0.793476\tvalid_0's binary_logloss: 0.506157\n",
      "Training until validation scores don't improve for 50 rounds\n",
      "Early stopping, best iteration is:\n",
      "[47]\tvalid_0's auc: 0.800623\tvalid_0's binary_logloss: 0.493861\n",
      "Training until validation scores don't improve for 50 rounds\n",
      "Early stopping, best iteration is:\n",
      "[11]\tvalid_0's auc: 0.811905\tvalid_0's binary_logloss: 0.546561\n",
      "Training until validation scores don't improve for 50 rounds\n"
     ]
    },
    {
     "name": "stderr",
     "output_type": "stream",
     "text": [
      "[I 2025-09-07 11:42:46,851] Trial 3 finished with value: 0.800773230604852 and parameters: {'n_estimators': 168, 'learning_rate': 0.07281852285425537, 'num_leaves': 48, 'max_depth': 7, 'min_child_samples': 40, 'subsample': 0.9576708662275372, 'colsample_bytree': 0.9418338055830278, 'reg_alpha': 1.8363129768262239, 'reg_lambda': 6.441356439478513e-07}. Best is trial 2 with value: 0.8035791730404077.\n"
     ]
    },
    {
     "name": "stdout",
     "output_type": "stream",
     "text": [
      "Early stopping, best iteration is:\n",
      "[70]\tvalid_0's auc: 0.789792\tvalid_0's binary_logloss: 0.506551\n",
      "Training until validation scores don't improve for 50 rounds\n",
      "Early stopping, best iteration is:\n",
      "[31]\tvalid_0's auc: 0.805769\tvalid_0's binary_logloss: 0.558183\n",
      "Training until validation scores don't improve for 50 rounds\n",
      "Early stopping, best iteration is:\n",
      "[63]\tvalid_0's auc: 0.811704\tvalid_0's binary_logloss: 0.510331\n",
      "Training until validation scores don't improve for 50 rounds\n"
     ]
    },
    {
     "name": "stderr",
     "output_type": "stream",
     "text": [
      "[I 2025-09-07 11:42:48,082] Trial 4 finished with value: 0.8033034196719585 and parameters: {'n_estimators': 142, 'learning_rate': 0.023403653283452813, 'num_leaves': 21, 'max_depth': 7, 'min_child_samples': 29, 'subsample': 0.7961395262956045, 'colsample_bytree': 0.9709863086997461, 'reg_alpha': 2.3299777808222995e-08, 'reg_lambda': 9.4280454764533e-08}. Best is trial 2 with value: 0.8035791730404077.\n"
     ]
    },
    {
     "name": "stdout",
     "output_type": "stream",
     "text": [
      "Did not meet early stopping. Best iteration is:\n",
      "[142]\tvalid_0's auc: 0.792437\tvalid_0's binary_logloss: 0.506444\n",
      "Training until validation scores don't improve for 50 rounds\n",
      "Early stopping, best iteration is:\n",
      "[123]\tvalid_0's auc: 0.806483\tvalid_0's binary_logloss: 0.489482\n",
      "Training until validation scores don't improve for 50 rounds\n",
      "Early stopping, best iteration is:\n",
      "[88]\tvalid_0's auc: 0.81483\tvalid_0's binary_logloss: 0.487443\n",
      "Training until validation scores don't improve for 50 rounds\n"
     ]
    },
    {
     "name": "stderr",
     "output_type": "stream",
     "text": [
      "[I 2025-09-07 11:42:50,824] Trial 5 finished with value: 0.8047959328247902 and parameters: {'n_estimators': 276, 'learning_rate': 0.03263895188043232, 'num_leaves': 82, 'max_depth': 9, 'min_child_samples': 22, 'subsample': 0.8132207242218386, 'colsample_bytree': 0.6393286571835568, 'reg_alpha': 0.00019962354313519113, 'reg_lambda': 0.001419652202696352}. Best is trial 5 with value: 0.8047959328247902.\n"
     ]
    },
    {
     "name": "stdout",
     "output_type": "stream",
     "text": [
      "Early stopping, best iteration is:\n",
      "[142]\tvalid_0's auc: 0.793074\tvalid_0's binary_logloss: 0.510273\n",
      "Training until validation scores don't improve for 50 rounds\n",
      "Did not meet early stopping. Best iteration is:\n",
      "[102]\tvalid_0's auc: 0.803591\tvalid_0's binary_logloss: 0.512151\n",
      "Training until validation scores don't improve for 50 rounds\n",
      "Did not meet early stopping. Best iteration is:\n",
      "[129]\tvalid_0's auc: 0.812688\tvalid_0's binary_logloss: 0.494171\n",
      "Training until validation scores don't improve for 50 rounds\n"
     ]
    },
    {
     "name": "stderr",
     "output_type": "stream",
     "text": [
      "[I 2025-09-07 11:42:52,566] Trial 6 finished with value: 0.8025363783552231 and parameters: {'n_estimators': 129, 'learning_rate': 0.018014420662708933, 'num_leaves': 59, 'max_depth': 7, 'min_child_samples': 44, 'subsample': 0.6692824786775623, 'colsample_bytree': 0.730356170748953, 'reg_alpha': 7.025367202746252e-06, 'reg_lambda': 0.013855661971873642}. Best is trial 5 with value: 0.8047959328247902.\n"
     ]
    },
    {
     "name": "stdout",
     "output_type": "stream",
     "text": [
      "Early stopping, best iteration is:\n",
      "[60]\tvalid_0's auc: 0.79133\tvalid_0's binary_logloss: 0.54875\n",
      "Training until validation scores don't improve for 50 rounds\n",
      "Did not meet early stopping. Best iteration is:\n",
      "[103]\tvalid_0's auc: 0.800371\tvalid_0's binary_logloss: 0.534646\n",
      "Training until validation scores don't improve for 50 rounds\n",
      "Early stopping, best iteration is:\n",
      "[53]\tvalid_0's auc: 0.809686\tvalid_0's binary_logloss: 0.572003\n",
      "Training until validation scores don't improve for 50 rounds\n"
     ]
    },
    {
     "name": "stderr",
     "output_type": "stream",
     "text": [
      "[I 2025-09-07 11:42:53,966] Trial 7 finished with value: 0.8001535737617277 and parameters: {'n_estimators': 104, 'learning_rate': 0.012227886690739164, 'num_leaves': 76, 'max_depth': 5, 'min_child_samples': 14, 'subsample': 0.6506602023514166, 'colsample_bytree': 0.8104709716073193, 'reg_alpha': 2.1368119487753614e-05, 'reg_lambda': 0.0001295560452903721}. Best is trial 5 with value: 0.8047959328247902.\n"
     ]
    },
    {
     "name": "stdout",
     "output_type": "stream",
     "text": [
      "Did not meet early stopping. Best iteration is:\n",
      "[102]\tvalid_0's auc: 0.790403\tvalid_0's binary_logloss: 0.543227\n",
      "Training until validation scores don't improve for 50 rounds\n",
      "Early stopping, best iteration is:\n",
      "[95]\tvalid_0's auc: 0.799295\tvalid_0's binary_logloss: 0.495176\n",
      "Training until validation scores don't improve for 50 rounds\n",
      "Early stopping, best iteration is:\n",
      "[83]\tvalid_0's auc: 0.808484\tvalid_0's binary_logloss: 0.486766\n",
      "Training until validation scores don't improve for 50 rounds\n"
     ]
    },
    {
     "name": "stderr",
     "output_type": "stream",
     "text": [
      "[I 2025-09-07 11:42:56,133] Trial 8 finished with value: 0.7986658654503617 and parameters: {'n_estimators': 327, 'learning_rate': 0.03605216535625339, 'num_leaves': 77, 'max_depth': 7, 'min_child_samples': 5, 'subsample': 0.9295878523425744, 'colsample_bytree': 0.8772835315093697, 'reg_alpha': 6.251586509500215e-07, 'reg_lambda': 1.941302323690281e-05}. Best is trial 5 with value: 0.8047959328247902.\n"
     ]
    },
    {
     "name": "stdout",
     "output_type": "stream",
     "text": [
      "Early stopping, best iteration is:\n",
      "[36]\tvalid_0's auc: 0.788219\tvalid_0's binary_logloss: 0.534613\n",
      "Training until validation scores don't improve for 50 rounds\n",
      "Early stopping, best iteration is:\n",
      "[103]\tvalid_0's auc: 0.807226\tvalid_0's binary_logloss: 0.483299\n",
      "Training until validation scores don't improve for 50 rounds\n",
      "Early stopping, best iteration is:\n",
      "[88]\tvalid_0's auc: 0.816163\tvalid_0's binary_logloss: 0.475594\n",
      "Training until validation scores don't improve for 50 rounds\n"
     ]
    },
    {
     "name": "stderr",
     "output_type": "stream",
     "text": [
      "[I 2025-09-07 11:42:57,188] Trial 9 finished with value: 0.8065602424108237 and parameters: {'n_estimators': 226, 'learning_rate': 0.15153571888069864, 'num_leaves': 73, 'max_depth': 4, 'min_child_samples': 27, 'subsample': 0.9715094024731001, 'colsample_bytree': 0.6557948651850357, 'reg_alpha': 6.875598417841964, 'reg_lambda': 0.0004562814645840411}. Best is trial 9 with value: 0.8065602424108237.\n"
     ]
    },
    {
     "name": "stdout",
     "output_type": "stream",
     "text": [
      "Early stopping, best iteration is:\n",
      "[48]\tvalid_0's auc: 0.796293\tvalid_0's binary_logloss: 0.505436\n",
      "Training until validation scores don't improve for 50 rounds\n",
      "Early stopping, best iteration is:\n",
      "[28]\tvalid_0's auc: 0.805666\tvalid_0's binary_logloss: 0.49002\n",
      "Training until validation scores don't improve for 50 rounds\n",
      "Early stopping, best iteration is:\n",
      "[47]\tvalid_0's auc: 0.812812\tvalid_0's binary_logloss: 0.479171\n",
      "Training until validation scores don't improve for 50 rounds\n"
     ]
    },
    {
     "name": "stderr",
     "output_type": "stream",
     "text": [
      "[I 2025-09-07 11:42:58,517] Trial 10 finished with value: 0.8031982337247529 and parameters: {'n_estimators': 225, 'learning_rate': 0.19325545317674933, 'num_leaves': 115, 'max_depth': 9, 'min_child_samples': 35, 'subsample': 0.9954145448938799, 'colsample_bytree': 0.6084742744730259, 'reg_alpha': 7.303750363803917, 'reg_lambda': 4.545530545135894e-06}. Best is trial 9 with value: 0.8065602424108237.\n"
     ]
    },
    {
     "name": "stdout",
     "output_type": "stream",
     "text": [
      "Early stopping, best iteration is:\n",
      "[35]\tvalid_0's auc: 0.791116\tvalid_0's binary_logloss: 0.506223\n",
      "Training until validation scores don't improve for 50 rounds\n",
      "Early stopping, best iteration is:\n",
      "[31]\tvalid_0's auc: 0.80008\tvalid_0's binary_logloss: 0.497302\n",
      "Training until validation scores don't improve for 50 rounds\n",
      "Early stopping, best iteration is:\n",
      "[9]\tvalid_0's auc: 0.809019\tvalid_0's binary_logloss: 0.51334\n",
      "Training until validation scores don't improve for 50 rounds\n"
     ]
    },
    {
     "name": "stderr",
     "output_type": "stream",
     "text": [
      "[I 2025-09-07 11:43:00,150] Trial 11 finished with value: 0.7963293234936751 and parameters: {'n_estimators': 231, 'learning_rate': 0.16209874219858653, 'num_leaves': 101, 'max_depth': 10, 'min_child_samples': 19, 'subsample': 0.8622900114718066, 'colsample_bytree': 0.6069491210905977, 'reg_alpha': 0.012275189988260181, 'reg_lambda': 0.0031951879086374643}. Best is trial 9 with value: 0.8065602424108237.\n"
     ]
    },
    {
     "name": "stdout",
     "output_type": "stream",
     "text": [
      "Early stopping, best iteration is:\n",
      "[18]\tvalid_0's auc: 0.779889\tvalid_0's binary_logloss: 0.525341\n",
      "Training until validation scores don't improve for 50 rounds\n",
      "Early stopping, best iteration is:\n",
      "[28]\tvalid_0's auc: 0.800019\tvalid_0's binary_logloss: 0.50038\n",
      "Training until validation scores don't improve for 50 rounds\n",
      "Early stopping, best iteration is:\n",
      "[45]\tvalid_0's auc: 0.806756\tvalid_0's binary_logloss: 0.48772\n",
      "Training until validation scores don't improve for 50 rounds\n"
     ]
    },
    {
     "name": "stderr",
     "output_type": "stream",
     "text": [
      "[I 2025-09-07 11:43:02,033] Trial 12 finished with value: 0.7965777610838053 and parameters: {'n_estimators': 271, 'learning_rate': 0.10605459216592869, 'num_leaves': 97, 'max_depth': 9, 'min_child_samples': 14, 'subsample': 0.7207835911222589, 'colsample_bytree': 0.6819303496634639, 'reg_alpha': 0.007095796310767704, 'reg_lambda': 0.5191905642240651}. Best is trial 9 with value: 0.8065602424108237.\n"
     ]
    },
    {
     "name": "stdout",
     "output_type": "stream",
     "text": [
      "Early stopping, best iteration is:\n",
      "[30]\tvalid_0's auc: 0.782958\tvalid_0's binary_logloss: 0.519968\n",
      "Training until validation scores don't improve for 50 rounds\n",
      "Early stopping, best iteration is:\n",
      "[143]\tvalid_0's auc: 0.803874\tvalid_0's binary_logloss: 0.489356\n",
      "Training until validation scores don't improve for 50 rounds\n",
      "Did not meet early stopping. Best iteration is:\n",
      "[157]\tvalid_0's auc: 0.81413\tvalid_0's binary_logloss: 0.479032\n",
      "Training until validation scores don't improve for 50 rounds\n"
     ]
    },
    {
     "name": "stderr",
     "output_type": "stream",
     "text": [
      "[I 2025-09-07 11:43:03,916] Trial 13 finished with value: 0.8043001162217361 and parameters: {'n_estimators': 197, 'learning_rate': 0.03474138169690774, 'num_leaves': 94, 'max_depth': 5, 'min_child_samples': 22, 'subsample': 0.8708626918737405, 'colsample_bytree': 0.6724927822545992, 'reg_alpha': 0.011601647927107231, 'reg_lambda': 0.00012756705205307206}. Best is trial 9 with value: 0.8065602424108237.\n"
     ]
    },
    {
     "name": "stdout",
     "output_type": "stream",
     "text": [
      "Did not meet early stopping. Best iteration is:\n",
      "[197]\tvalid_0's auc: 0.794897\tvalid_0's binary_logloss: 0.50597\n",
      "Training until validation scores don't improve for 50 rounds\n",
      "Early stopping, best iteration is:\n",
      "[100]\tvalid_0's auc: 0.805085\tvalid_0's binary_logloss: 0.485453\n",
      "Training until validation scores don't improve for 50 rounds\n",
      "Early stopping, best iteration is:\n",
      "[129]\tvalid_0's auc: 0.820258\tvalid_0's binary_logloss: 0.474409\n",
      "Training until validation scores don't improve for 50 rounds\n"
     ]
    },
    {
     "name": "stderr",
     "output_type": "stream",
     "text": [
      "[I 2025-09-07 11:43:05,001] Trial 14 finished with value: 0.8068918599688938 and parameters: {'n_estimators': 280, 'learning_rate': 0.1164122329540914, 'num_leaves': 45, 'max_depth': 3, 'min_child_samples': 35, 'subsample': 0.6073612007150517, 'colsample_bytree': 0.7372700550609441, 'reg_alpha': 0.0006296566669509104, 'reg_lambda': 0.024751335478177896}. Best is trial 14 with value: 0.8068918599688938.\n"
     ]
    },
    {
     "name": "stdout",
     "output_type": "stream",
     "text": [
      "Early stopping, best iteration is:\n",
      "[67]\tvalid_0's auc: 0.795332\tvalid_0's binary_logloss: 0.507817\n",
      "Training until validation scores don't improve for 50 rounds\n",
      "Early stopping, best iteration is:\n",
      "[132]\tvalid_0's auc: 0.806602\tvalid_0's binary_logloss: 0.484166\n",
      "Training until validation scores don't improve for 50 rounds\n",
      "Early stopping, best iteration is:\n",
      "[141]\tvalid_0's auc: 0.81946\tvalid_0's binary_logloss: 0.475128\n",
      "Training until validation scores don't improve for 50 rounds\n"
     ]
    },
    {
     "name": "stderr",
     "output_type": "stream",
     "text": [
      "[I 2025-09-07 11:43:06,167] Trial 15 finished with value: 0.8074082250640412 and parameters: {'n_estimators': 342, 'learning_rate': 0.11874991435729515, 'num_leaves': 44, 'max_depth': 3, 'min_child_samples': 50, 'subsample': 0.6104583219154918, 'colsample_bytree': 0.742867644462533, 'reg_alpha': 0.32677089472054405, 'reg_lambda': 0.08288837978275913}. Best is trial 15 with value: 0.8074082250640412.\n"
     ]
    },
    {
     "name": "stdout",
     "output_type": "stream",
     "text": [
      "Early stopping, best iteration is:\n",
      "[70]\tvalid_0's auc: 0.796163\tvalid_0's binary_logloss: 0.507035\n",
      "Training until validation scores don't improve for 50 rounds\n",
      "Early stopping, best iteration is:\n",
      "[150]\tvalid_0's auc: 0.8071\tvalid_0's binary_logloss: 0.48376\n",
      "Training until validation scores don't improve for 50 rounds\n",
      "Early stopping, best iteration is:\n",
      "[132]\tvalid_0's auc: 0.818048\tvalid_0's binary_logloss: 0.476542\n",
      "Training until validation scores don't improve for 50 rounds\n"
     ]
    },
    {
     "name": "stderr",
     "output_type": "stream",
     "text": [
      "[I 2025-09-07 11:43:07,367] Trial 16 finished with value: 0.807586754899123 and parameters: {'n_estimators': 396, 'learning_rate': 0.0971863244886752, 'num_leaves': 42, 'max_depth': 3, 'min_child_samples': 50, 'subsample': 0.6022760516275157, 'colsample_bytree': 0.7443528354837698, 'reg_alpha': 0.23485753737446954, 'reg_lambda': 0.11535031762901428}. Best is trial 16 with value: 0.807586754899123.\n"
     ]
    },
    {
     "name": "stdout",
     "output_type": "stream",
     "text": [
      "Early stopping, best iteration is:\n",
      "[91]\tvalid_0's auc: 0.797612\tvalid_0's binary_logloss: 0.506108\n",
      "Training until validation scores don't improve for 50 rounds\n",
      "Early stopping, best iteration is:\n",
      "[198]\tvalid_0's auc: 0.806378\tvalid_0's binary_logloss: 0.483855\n",
      "Training until validation scores don't improve for 50 rounds\n",
      "Early stopping, best iteration is:\n",
      "[184]\tvalid_0's auc: 0.819215\tvalid_0's binary_logloss: 0.474894\n",
      "Training until validation scores don't improve for 50 rounds\n"
     ]
    },
    {
     "name": "stderr",
     "output_type": "stream",
     "text": [
      "[I 2025-09-07 11:43:08,651] Trial 17 finished with value: 0.8061541698089402 and parameters: {'n_estimators': 400, 'learning_rate': 0.09204744760078684, 'num_leaves': 35, 'max_depth': 3, 'min_child_samples': 50, 'subsample': 0.605286446961651, 'colsample_bytree': 0.8562729755247627, 'reg_alpha': 0.11819728738420711, 'reg_lambda': 6.2270626650455485}. Best is trial 16 with value: 0.807586754899123.\n"
     ]
    },
    {
     "name": "stdout",
     "output_type": "stream",
     "text": [
      "Early stopping, best iteration is:\n",
      "[34]\tvalid_0's auc: 0.792869\tvalid_0's binary_logloss: 0.522149\n",
      "Training until validation scores don't improve for 50 rounds\n",
      "Early stopping, best iteration is:\n",
      "[18]\tvalid_0's auc: 0.802379\tvalid_0's binary_logloss: 0.526665\n",
      "Training until validation scores don't improve for 50 rounds\n",
      "Early stopping, best iteration is:\n",
      "[82]\tvalid_0's auc: 0.815748\tvalid_0's binary_logloss: 0.477918\n",
      "Training until validation scores don't improve for 50 rounds\n"
     ]
    },
    {
     "name": "stderr",
     "output_type": "stream",
     "text": [
      "[I 2025-09-07 11:43:09,686] Trial 18 finished with value: 0.8043071002913758 and parameters: {'n_estimators': 340, 'learning_rate': 0.08495294653495292, 'num_leaves': 36, 'max_depth': 4, 'min_child_samples': 50, 'subsample': 0.7241335499268673, 'colsample_bytree': 0.745100363583745, 'reg_alpha': 0.22018793279724946, 'reg_lambda': 0.3356293508730355}. Best is trial 16 with value: 0.807586754899123.\n"
     ]
    },
    {
     "name": "stdout",
     "output_type": "stream",
     "text": [
      "Early stopping, best iteration is:\n",
      "[70]\tvalid_0's auc: 0.794795\tvalid_0's binary_logloss: 0.507398\n",
      "Training until validation scores don't improve for 50 rounds\n",
      "Early stopping, best iteration is:\n",
      "[44]\tvalid_0's auc: 0.802749\tvalid_0's binary_logloss: 0.490109\n",
      "Training until validation scores don't improve for 50 rounds\n",
      "Early stopping, best iteration is:\n",
      "[35]\tvalid_0's auc: 0.807939\tvalid_0's binary_logloss: 0.482657\n",
      "Training until validation scores don't improve for 50 rounds\n"
     ]
    },
    {
     "name": "stderr",
     "output_type": "stream",
     "text": [
      "[I 2025-09-07 11:43:10,834] Trial 19 finished with value: 0.8003249147905761 and parameters: {'n_estimators': 375, 'learning_rate': 0.1322537139119982, 'num_leaves': 64, 'max_depth': 6, 'min_child_samples': 45, 'subsample': 0.6619725186950479, 'colsample_bytree': 0.8584437769446859, 'reg_alpha': 0.26670843558541224, 'reg_lambda': 0.7716693966719235}. Best is trial 16 with value: 0.807586754899123.\n"
     ]
    },
    {
     "name": "stdout",
     "output_type": "stream",
     "text": [
      "Early stopping, best iteration is:\n",
      "[32]\tvalid_0's auc: 0.790287\tvalid_0's binary_logloss: 0.510411\n",
      "Best trial params: {'n_estimators': 396, 'learning_rate': 0.0971863244886752, 'num_leaves': 42, 'max_depth': 3, 'min_child_samples': 50, 'subsample': 0.6022760516275157, 'colsample_bytree': 0.7443528354837698, 'reg_alpha': 0.23485753737446954, 'reg_lambda': 0.11535031762901428}\n"
     ]
    }
   ],
   "source": [
    "# --- Train-test split\n",
    "X_train, X_test, y_train, y_test = train_test_split(\n",
    "    X, y, test_size=0.2, random_state=RANDOM_STATE, stratify=y\n",
    ")\n",
    "\n",
    "# --- Optuna objective\n",
    "def objective(trial):\n",
    "    params = {\n",
    "        'objective': 'binary',\n",
    "        'metric': 'binary_logloss',\n",
    "        'verbosity': -1,\n",
    "        'boosting_type': 'gbdt',\n",
    "        'n_estimators': trial.suggest_int('n_estimators', 100, 400),\n",
    "        'learning_rate': trial.suggest_float('learning_rate', 0.01, 0.2, log=True),\n",
    "        'num_leaves': trial.suggest_int('num_leaves', 20, 128),\n",
    "        'max_depth': trial.suggest_int('max_depth', 3, 10),\n",
    "        'min_child_samples': trial.suggest_int('min_child_samples', 5, 50),\n",
    "        'subsample': trial.suggest_float('subsample', 0.6, 1.0),\n",
    "        'colsample_bytree': trial.suggest_float('colsample_bytree', 0.6, 1.0),\n",
    "        'reg_alpha': trial.suggest_float('reg_alpha', 1e-8, 10.0, log=True),\n",
    "        'reg_lambda': trial.suggest_float('reg_lambda', 1e-8, 10.0, log=True),\n",
    "        'n_jobs': 2\n",
    "    }\n",
    "\n",
    "    cv = StratifiedKFold(n_splits=CV_FOLDS, shuffle=True, random_state=RANDOM_STATE)\n",
    "    scores = []\n",
    "    for train_idx, val_idx in cv.split(X_train, y_train):\n",
    "        Xt, Xv = X_train.iloc[train_idx], X_train.iloc[val_idx]\n",
    "        yt, yv = y_train.iloc[train_idx], y_train.iloc[val_idx]\n",
    "\n",
    "        sm = SMOTE(random_state=RANDOM_STATE)\n",
    "        Xt_res, yt_res = sm.fit_resample(Xt, yt)\n",
    "\n",
    "        model = lgb.LGBMClassifier(**params)\n",
    "        model.fit(\n",
    "            Xt_res, yt_res,\n",
    "            eval_set=[(Xv, yv)],\n",
    "            eval_metric='auc',\n",
    "            callbacks=[early_stopping(50), log_evaluation(0)]\n",
    "        )\n",
    "\n",
    "        preds = model.predict_proba(Xv)[:, 1]\n",
    "        scores.append(roc_auc_score(yv, preds))\n",
    "\n",
    "    return float(np.mean(scores))\n",
    "\n",
    "\n",
    "# --- Run Optuna study\n",
    "study = optuna.create_study(direction='maximize')\n",
    "study.optimize(objective, n_trials=N_TRIALS, n_jobs=OPTUNA_N_JOBS)\n",
    "\n",
    "print(\"Best trial params:\", study.best_trial.params)\n",
    "best = study.best_trial.params\n",
    "best.update({\n",
    "    'objective': 'binary',\n",
    "    'metric': 'binary_logloss',\n",
    "    'verbosity': -1,\n",
    "    'boosting_type': 'gbdt',\n",
    "    'n_jobs': 2\n",
    "})\n"
   ]
  },
  {
   "cell_type": "code",
   "execution_count": 7,
   "id": "066e65b8",
   "metadata": {},
   "outputs": [
    {
     "name": "stdout",
     "output_type": "stream",
     "text": [
      "Training until validation scores don't improve for 50 rounds\n",
      "[50]\tvalid_0's auc: 0.80372\tvalid_0's binary_logloss: 0.501689\n",
      "[100]\tvalid_0's auc: 0.804595\tvalid_0's binary_logloss: 0.491401\n",
      "[150]\tvalid_0's auc: 0.801739\tvalid_0's binary_logloss: 0.490372\n",
      "Early stopping, best iteration is:\n",
      "[104]\tvalid_0's auc: 0.805219\tvalid_0's binary_logloss: 0.490769\n"
     ]
    },
    {
     "data": {
      "text/plain": [
       "['models\\\\trained_lgbm_model.pkl']"
      ]
     },
     "execution_count": 7,
     "metadata": {},
     "output_type": "execute_result"
    }
   ],
   "source": [
    "# --- Final training with SMOTE\n",
    "sm = SMOTE(random_state=RANDOM_STATE)\n",
    "X_tr_res, y_tr_res = sm.fit_resample(X_train, y_train)\n",
    "\n",
    "final_model = lgb.LGBMClassifier(**best)\n",
    "final_model.fit(\n",
    "    X_tr_res, y_tr_res,\n",
    "    eval_set=[(X_test, y_test)],\n",
    "    eval_metric='auc',\n",
    "    callbacks=[early_stopping(50), log_evaluation(50)]  # ✅ replacement\n",
    ")\n",
    "\n",
    "joblib.dump(final_model, os.path.join(MODELS_DIR, 'trained_lgbm_model.pkl'))"
   ]
  },
  {
   "cell_type": "code",
   "execution_count": 8,
   "id": "3ea4917c",
   "metadata": {},
   "outputs": [
    {
     "data": {
      "text/plain": [
       "['models\\\\calibration_model.pkl']"
      ]
     },
     "execution_count": 8,
     "metadata": {},
     "output_type": "execute_result"
    }
   ],
   "source": [
    "# --- Calibration\n",
    "calibrated = CalibratedClassifierCV(final_model, method='isotonic', cv=3)\n",
    "calibrated.fit(X_tr_res, y_tr_res)\n",
    "joblib.dump(calibrated, os.path.join(MODELS_DIR, 'calibration_model.pkl'))"
   ]
  },
  {
   "cell_type": "code",
   "execution_count": 9,
   "id": "f7abddab",
   "metadata": {},
   "outputs": [
    {
     "name": "stdout",
     "output_type": "stream",
     "text": [
      "ROC AUC: 0.8007709464207514\n",
      "Accuracy: 0.7305\n",
      "F1: 0.5104450499545867\n",
      "              precision    recall  f1-score   support\n",
      "\n",
      "           0       0.76      0.88      0.81      1341\n",
      "           1       0.64      0.43      0.51       659\n",
      "\n",
      "    accuracy                           0.73      2000\n",
      "   macro avg       0.70      0.65      0.66      2000\n",
      "weighted avg       0.72      0.73      0.71      2000\n",
      "\n"
     ]
    }
   ],
   "source": [
    "# --- Evaluation\n",
    "y_proba = calibrated.predict_proba(X_test)[:, 1]\n",
    "y_pred = (y_proba > 0.5).astype(int)\n",
    "\n",
    "print(\"ROC AUC:\", roc_auc_score(y_test, y_proba))\n",
    "print(\"Accuracy:\", accuracy_score(y_test, y_pred))\n",
    "print(\"F1:\", f1_score(y_test, y_pred))\n",
    "print(classification_report(y_test, y_pred))"
   ]
  }
 ],
 "metadata": {
  "kernelspec": {
   "display_name": "Python (myenv)",
   "language": "python",
   "name": "myenv"
  },
  "language_info": {
   "codemirror_mode": {
    "name": "ipython",
    "version": 3
   },
   "file_extension": ".py",
   "mimetype": "text/x-python",
   "name": "python",
   "nbconvert_exporter": "python",
   "pygments_lexer": "ipython3",
   "version": "3.11.3"
  }
 },
 "nbformat": 4,
 "nbformat_minor": 5
}
